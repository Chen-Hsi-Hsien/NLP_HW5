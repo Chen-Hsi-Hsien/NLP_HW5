{
 "cells": [
  {
   "cell_type": "code",
   "execution_count": 1,
   "id": "2c809def",
   "metadata": {},
   "outputs": [],
   "source": [
    "import json\n",
    "from opencc import OpenCC\n",
    "cc = OpenCC('s2t')"
   ]
  },
  {
   "cell_type": "code",
   "execution_count": 2,
   "id": "8be1fd3b",
   "metadata": {},
   "outputs": [],
   "source": [
    "textsC = []\n",
    "textsE = []\n",
    "fileName = './translation2019zh_valid.json'\n",
    "file = open(fileName, 'r', encoding='utf-8')\n",
    "dataR = []\n",
    "for line in file.readlines():\n",
    "    dataLine = json.loads(line)\n",
    "    dataR.append(dataLine)\n",
    "\n",
    "for data in dataR:\n",
    "    textsE.append(data['english'])\n",
    "    textsC.append(cc.convert(data['chinese']))"
   ]
  },
  {
   "cell_type": "code",
   "execution_count": 3,
   "id": "e05317dd",
   "metadata": {},
   "outputs": [],
   "source": [
    "import pandas as pd"
   ]
  },
  {
   "cell_type": "code",
   "execution_count": 4,
   "id": "288b6603",
   "metadata": {},
   "outputs": [
    {
     "data": {
      "text/html": [
       "<div>\n",
       "<style scoped>\n",
       "    .dataframe tbody tr th:only-of-type {\n",
       "        vertical-align: middle;\n",
       "    }\n",
       "\n",
       "    .dataframe tbody tr th {\n",
       "        vertical-align: top;\n",
       "    }\n",
       "\n",
       "    .dataframe thead th {\n",
       "        text-align: right;\n",
       "    }\n",
       "</style>\n",
       "<table border=\"1\" class=\"dataframe\">\n",
       "  <thead>\n",
       "    <tr style=\"text-align: right;\">\n",
       "      <th></th>\n",
       "      <th>English</th>\n",
       "    </tr>\n",
       "  </thead>\n",
       "  <tbody>\n",
       "  </tbody>\n",
       "</table>\n",
       "</div>"
      ],
      "text/plain": [
       "Empty DataFrame\n",
       "Columns: [English]\n",
       "Index: []"
      ]
     },
     "execution_count": 4,
     "metadata": {},
     "output_type": "execute_result"
    }
   ],
   "source": [
    "df = pd.DataFrame(columns = ['English'])\n",
    "df"
   ]
  },
  {
   "cell_type": "code",
   "execution_count": 5,
   "id": "c9fb4331",
   "metadata": {},
   "outputs": [],
   "source": [
    "df['English'] = textsE\n",
    "df['Chinese'] = textsC"
   ]
  },
  {
   "cell_type": "code",
   "execution_count": 6,
   "id": "f9b38ef2",
   "metadata": {},
   "outputs": [
    {
     "data": {
      "text/html": [
       "<div>\n",
       "<style scoped>\n",
       "    .dataframe tbody tr th:only-of-type {\n",
       "        vertical-align: middle;\n",
       "    }\n",
       "\n",
       "    .dataframe tbody tr th {\n",
       "        vertical-align: top;\n",
       "    }\n",
       "\n",
       "    .dataframe thead th {\n",
       "        text-align: right;\n",
       "    }\n",
       "</style>\n",
       "<table border=\"1\" class=\"dataframe\">\n",
       "  <thead>\n",
       "    <tr style=\"text-align: right;\">\n",
       "      <th></th>\n",
       "      <th>English</th>\n",
       "      <th>Chinese</th>\n",
       "    </tr>\n",
       "  </thead>\n",
       "  <tbody>\n",
       "    <tr>\n",
       "      <th>0</th>\n",
       "      <td>Slowly and not without struggle, America began...</td>\n",
       "      <td>美國緩慢地開始傾聽，但並非沒有艱難曲折。</td>\n",
       "    </tr>\n",
       "    <tr>\n",
       "      <th>1</th>\n",
       "      <td>I didn't own a Thesaurus until four years ago ...</td>\n",
       "      <td>直到四年前我纔有了一本詞典。我使用的是用89美分在K市場裏買來的一本韋氏小詞典。我從來不使用...</td>\n",
       "    </tr>\n",
       "    <tr>\n",
       "      <th>2</th>\n",
       "      <td>portlet, you must write three short deployment...</td>\n",
       "      <td>portlet 之後，您必須編寫三個簡短的部署描述符：web.xml、portlet.xml...</td>\n",
       "    </tr>\n",
       "    <tr>\n",
       "      <th>3</th>\n",
       "      <td>Dithering is a technique that blends your colo...</td>\n",
       "      <td>抖動是關於顏色混合的技術，使你的作品看起來更圓滑，或者只是創作有趣的材質。</td>\n",
       "    </tr>\n",
       "    <tr>\n",
       "      <th>4</th>\n",
       "      <td>This paper discusses the petrologic characteri...</td>\n",
       "      <td>本文以琿春早第三紀含煤盆地的地質構違背景爲依據，分析了煤系地層的岩石學特徵。</td>\n",
       "    </tr>\n",
       "    <tr>\n",
       "      <th>...</th>\n",
       "      <td>...</td>\n",
       "      <td>...</td>\n",
       "    </tr>\n",
       "    <tr>\n",
       "      <th>39318</th>\n",
       "      <td>The bill will now have to be passed by the Upp...</td>\n",
       "      <td>目前，這項法案還必須獲得印度議會上院的通過。</td>\n",
       "    </tr>\n",
       "    <tr>\n",
       "      <th>39319</th>\n",
       "      <td>The influences of thermal debinding temperatur...</td>\n",
       "      <td>研究了熱脫脂溫度、時間、不同脫脂方式以及粘結劑組成對脫脂坯碳含量的影響。</td>\n",
       "    </tr>\n",
       "    <tr>\n",
       "      <th>39320</th>\n",
       "      <td>The man and woman are short and heigh .</td>\n",
       "      <td>這個男人，和這個女人都和瘦長。</td>\n",
       "    </tr>\n",
       "    <tr>\n",
       "      <th>39321</th>\n",
       "      <td>That same old-fashioned car that I had seen ea...</td>\n",
       "      <td>我之前看見的那輛老式轎車還停在原來的地方，也就是警察局對面。</td>\n",
       "    </tr>\n",
       "    <tr>\n",
       "      <th>39322</th>\n",
       "      <td>He had a cold and spoke with a slight snuffle.</td>\n",
       "      <td>他感冒了， 說話有點齉鼻兒。</td>\n",
       "    </tr>\n",
       "  </tbody>\n",
       "</table>\n",
       "<p>39323 rows × 2 columns</p>\n",
       "</div>"
      ],
      "text/plain": [
       "                                                 English  \\\n",
       "0      Slowly and not without struggle, America began...   \n",
       "1      I didn't own a Thesaurus until four years ago ...   \n",
       "2      portlet, you must write three short deployment...   \n",
       "3      Dithering is a technique that blends your colo...   \n",
       "4      This paper discusses the petrologic characteri...   \n",
       "...                                                  ...   \n",
       "39318  The bill will now have to be passed by the Upp...   \n",
       "39319  The influences of thermal debinding temperatur...   \n",
       "39320            The man and woman are short and heigh .   \n",
       "39321  That same old-fashioned car that I had seen ea...   \n",
       "39322     He had a cold and spoke with a slight snuffle.   \n",
       "\n",
       "                                                 Chinese  \n",
       "0                                   美國緩慢地開始傾聽，但並非沒有艱難曲折。  \n",
       "1      直到四年前我纔有了一本詞典。我使用的是用89美分在K市場裏買來的一本韋氏小詞典。我從來不使用...  \n",
       "2      portlet 之後，您必須編寫三個簡短的部署描述符：web.xml、portlet.xml...  \n",
       "3                  抖動是關於顏色混合的技術，使你的作品看起來更圓滑，或者只是創作有趣的材質。  \n",
       "4                 本文以琿春早第三紀含煤盆地的地質構違背景爲依據，分析了煤系地層的岩石學特徵。  \n",
       "...                                                  ...  \n",
       "39318                             目前，這項法案還必須獲得印度議會上院的通過。  \n",
       "39319               研究了熱脫脂溫度、時間、不同脫脂方式以及粘結劑組成對脫脂坯碳含量的影響。  \n",
       "39320                                    這個男人，和這個女人都和瘦長。  \n",
       "39321                     我之前看見的那輛老式轎車還停在原來的地方，也就是警察局對面。  \n",
       "39322                                     他感冒了， 說話有點齉鼻兒。  \n",
       "\n",
       "[39323 rows x 2 columns]"
      ]
     },
     "execution_count": 6,
     "metadata": {},
     "output_type": "execute_result"
    }
   ],
   "source": [
    "df"
   ]
  },
  {
   "cell_type": "code",
   "execution_count": 7,
   "id": "93a95882",
   "metadata": {},
   "outputs": [],
   "source": [
    "from tensorflow import keras "
   ]
  },
  {
   "cell_type": "code",
   "execution_count": 8,
   "id": "0d13b3e8",
   "metadata": {},
   "outputs": [],
   "source": [
    "from __future__ import print_function"
   ]
  },
  {
   "cell_type": "code",
   "execution_count": 9,
   "id": "6f1a0226",
   "metadata": {},
   "outputs": [],
   "source": [
    "import numpy as np"
   ]
  },
  {
   "cell_type": "code",
   "execution_count": 10,
   "id": "b5c8f37e",
   "metadata": {},
   "outputs": [],
   "source": [
    "# 參數設定\n",
    "batch_size = 64  # Batch size for training.\n",
    "epochs = 100  # Number of epochs to train for.\n",
    "latent_dim = 256  # Latent dimensionality of the encoding space.\n",
    "num_samples = 10000  # Number of samples to train on."
   ]
  },
  {
   "cell_type": "code",
   "execution_count": 12,
   "id": "4b9685b5",
   "metadata": {},
   "outputs": [],
   "source": [
    "# 讀取資料檔，並將所有單字整理為字典，分別為英文及中文字典，注意，英文為字母的集合，非單字(Word)\n",
    "input_texts = []\n",
    "target_texts = []\n",
    "input_characters = set()\n",
    "target_characters = set()\n",
    "\n",
    "for item in textsE:\n",
    "    input_text = item\n",
    "    input_texts.append(input_text)\n",
    "    for char in input_text:\n",
    "        if char not in input_characters:\n",
    "            input_characters.add(char)\n",
    "\n",
    "for item in textsC:\n",
    "    target_text = '\\t' + item + '\\n'\n",
    "    target_texts.append(target_text)\n",
    "    for char in target_text:\n",
    "        if char not in target_characters:\n",
    "            target_characters.add(char)"
   ]
  },
  {
   "cell_type": "code",
   "execution_count": 13,
   "id": "698bda96",
   "metadata": {},
   "outputs": [
    {
     "name": "stdout",
     "output_type": "stream",
     "text": [
      "['\\t美國緩慢地開始傾聽，但並非沒有艱難曲折。\\n', '\\t直到四年前我纔有了一本詞典。我使用的是用89美分在K市場裏買來的一本韋氏小詞典。我從來不使用單詞處理程序。\\n', '\\tportlet 之後，您必須編寫三個簡短的部署描述符：web.xml、portlet.xml 和 geronimo-web.xml（這其中的一些文件可能已經由 IDE 生成）。\\n', '\\t抖動是關於顏色混合的技術，使你的作品看起來更圓滑，或者只是創作有趣的材質。\\n', '\\t本文以琿春早第三紀含煤盆地的地質構違背景爲依據，分析了煤系地層的岩石學特徵。\\n', '\\t55歲以上的女人們對自己伴侶更爲挑剔。\\n', '\\t所以，要“治療“他人你必須沒有任何偏好。\\n', '\\t第二次事件跟我爺爺的寶貝匣子有關。\\n', '\\t將 <ejb-link> 標記的值更改爲 MyEJB，即在 ejb-jar.xml 文件中定義的 EJB 名稱。\\n', '\\t解決這些挑戰的途徑包括依照麻瓜在南非的經驗設立真相與和解委員會。\\n']\n"
     ]
    }
   ],
   "source": [
    "print(target_texts[:10])"
   ]
  },
  {
   "cell_type": "code",
   "execution_count": 14,
   "id": "3b7aa4f5",
   "metadata": {},
   "outputs": [
    {
     "name": "stdout",
     "output_type": "stream",
     "text": [
      "['Slowly and not without struggle, America began to listen.', \"I didn't own a Thesaurus until four years ago and I use a small Webster's dictionary that I'd bought at K-Mart for 89 cents.\", 'portlet, you must write three short deployment descriptors: web.xml, portlet.xml, and geronimo-web.xml. (Some of these may have been generated by your IDE.)', 'Dithering is a technique that blends your colors together, making them look smoother, or just creating interesting textures.', 'This paper discusses the petrologic characteristics of the coal-bearing strata under the geologic structural background of the Tertiary coal basin in Hunchun.', 'Women over 55 are pickier about their partners than at any other time in their lives.', 'Ruben: So, to heal (with capital letters) you need to have no predilections.', \"The second encounter relates to my grandfather's treasure box.\", 'Change the value for the <ejb-link> tag to MyEJB, which is the name of the EJB as defined in the ejb-jar.xml file.', 'One way to address these challenges would be to establish a Truth and Reconciliation Commission modeled on the experience of Muggle South Africa.']\n"
     ]
    }
   ],
   "source": [
    "print(input_texts[:10])"
   ]
  },
  {
   "cell_type": "code",
   "execution_count": 15,
   "id": "702f16f3",
   "metadata": {},
   "outputs": [],
   "source": [
    "# 字典排序            \n",
    "input_characters = sorted(list(input_characters))\n",
    "target_characters = sorted(list(target_characters))\n",
    "num_encoder_tokens = len(input_characters)\n",
    "num_decoder_tokens = len(target_characters)"
   ]
  },
  {
   "cell_type": "code",
   "execution_count": 16,
   "id": "7b9695d5",
   "metadata": {},
   "outputs": [],
   "source": [
    "\n",
    "# 計算編碼器、解碼器的最大長度\n",
    "max_encoder_seq_length = max([len(txt) for txt in input_texts])\n",
    "max_decoder_seq_length = max([len(txt) for txt in target_texts])"
   ]
  },
  {
   "cell_type": "code",
   "execution_count": 17,
   "id": "2b4b1be2",
   "metadata": {},
   "outputs": [
    {
     "name": "stdout",
     "output_type": "stream",
     "text": [
      "Number of samples: 39323\n",
      "Number of unique input tokens: 849\n",
      "Number of unique output tokens: 5346\n",
      "Max sequence length for inputs: 373\n",
      "Max sequence length for outputs: 199\n"
     ]
    }
   ],
   "source": [
    "print('Number of samples:', len(input_texts))\n",
    "print('Number of unique input tokens:', num_encoder_tokens)\n",
    "print('Number of unique output tokens:', num_decoder_tokens)\n",
    "print('Max sequence length for inputs:', max_encoder_seq_length)\n",
    "print('Max sequence length for outputs:', max_decoder_seq_length)"
   ]
  },
  {
   "cell_type": "code",
   "execution_count": 18,
   "id": "8cd6e545",
   "metadata": {},
   "outputs": [],
   "source": [
    "# 以dict儲存字典單字及序號\n",
    "input_token_index = dict([(char, i) for i, char in enumerate(input_characters)])\n",
    "target_token_index = dict([(char, i) for i, char in enumerate(target_characters)])"
   ]
  },
  {
   "cell_type": "code",
   "execution_count": 21,
   "id": "33cbd3b4",
   "metadata": {},
   "outputs": [
    {
     "ename": "MemoryError",
     "evalue": "Unable to allocate 46.4 GiB for an array with shape (39323, 373, 849) and data type float32",
     "output_type": "error",
     "traceback": [
      "\u001b[1;31m---------------------------------------------------------------------------\u001b[0m",
      "\u001b[1;31mMemoryError\u001b[0m                               Traceback (most recent call last)",
      "\u001b[1;32m<ipython-input-21-7cbaa045ec3e>\u001b[0m in \u001b[0;36m<module>\u001b[1;34m\u001b[0m\n\u001b[0;32m      1\u001b[0m \u001b[1;31m# 設定編碼器、解碼器input起始值(均為0矩陣)\u001b[0m\u001b[1;33m\u001b[0m\u001b[1;33m\u001b[0m\u001b[1;33m\u001b[0m\u001b[0m\n\u001b[1;32m----> 2\u001b[1;33m \u001b[0mencoder_input_data\u001b[0m \u001b[1;33m=\u001b[0m \u001b[0mnp\u001b[0m\u001b[1;33m.\u001b[0m\u001b[0mzeros\u001b[0m\u001b[1;33m(\u001b[0m\u001b[1;33m(\u001b[0m\u001b[0mlen\u001b[0m\u001b[1;33m(\u001b[0m\u001b[0minput_texts\u001b[0m\u001b[1;33m)\u001b[0m\u001b[1;33m,\u001b[0m \u001b[0mmax_encoder_seq_length\u001b[0m\u001b[1;33m,\u001b[0m \u001b[0mnum_encoder_tokens\u001b[0m\u001b[1;33m)\u001b[0m\u001b[1;33m,\u001b[0m \u001b[0mdtype\u001b[0m\u001b[1;33m=\u001b[0m\u001b[1;34m'float32'\u001b[0m\u001b[1;33m)\u001b[0m\u001b[1;33m\u001b[0m\u001b[1;33m\u001b[0m\u001b[0m\n\u001b[0m\u001b[0;32m      3\u001b[0m \u001b[0mdecoder_input_data\u001b[0m \u001b[1;33m=\u001b[0m \u001b[0mnp\u001b[0m\u001b[1;33m.\u001b[0m\u001b[0mzeros\u001b[0m\u001b[1;33m(\u001b[0m\u001b[1;33m(\u001b[0m\u001b[0mlen\u001b[0m\u001b[1;33m(\u001b[0m\u001b[0minput_texts\u001b[0m\u001b[1;33m)\u001b[0m\u001b[1;33m,\u001b[0m \u001b[0mmax_decoder_seq_length\u001b[0m\u001b[1;33m,\u001b[0m \u001b[0mnum_decoder_tokens\u001b[0m\u001b[1;33m)\u001b[0m\u001b[1;33m,\u001b[0m \u001b[0mdtype\u001b[0m\u001b[1;33m=\u001b[0m\u001b[1;34m'float32'\u001b[0m\u001b[1;33m)\u001b[0m\u001b[1;33m\u001b[0m\u001b[1;33m\u001b[0m\u001b[0m\n\u001b[0;32m      4\u001b[0m \u001b[0mdecoder_target_data\u001b[0m \u001b[1;33m=\u001b[0m \u001b[0mnp\u001b[0m\u001b[1;33m.\u001b[0m\u001b[0mzeros\u001b[0m\u001b[1;33m(\u001b[0m\u001b[1;33m(\u001b[0m\u001b[0mlen\u001b[0m\u001b[1;33m(\u001b[0m\u001b[0minput_texts\u001b[0m\u001b[1;33m)\u001b[0m\u001b[1;33m,\u001b[0m \u001b[0mmax_decoder_seq_length\u001b[0m\u001b[1;33m,\u001b[0m \u001b[0mnum_decoder_tokens\u001b[0m\u001b[1;33m)\u001b[0m\u001b[1;33m,\u001b[0m \u001b[0mdtype\u001b[0m\u001b[1;33m=\u001b[0m\u001b[1;34m'float32'\u001b[0m\u001b[1;33m)\u001b[0m\u001b[1;33m\u001b[0m\u001b[1;33m\u001b[0m\u001b[0m\n",
      "\u001b[1;31mMemoryError\u001b[0m: Unable to allocate 46.4 GiB for an array with shape (39323, 373, 849) and data type float32"
     ]
    }
   ],
   "source": [
    "# 設定編碼器、解碼器input起始值(均為0矩陣)\n",
    "encoder_input_data = np.zeros((len(input_texts), max_encoder_seq_length, num_encoder_tokens), dtype='float32')\n",
    "decoder_input_data = np.zeros((len(input_texts), max_decoder_seq_length, num_decoder_tokens), dtype='float32')\n",
    "decoder_target_data = np.zeros((len(input_texts), max_decoder_seq_length, num_decoder_tokens), dtype='float32')"
   ]
  },
  {
   "cell_type": "code",
   "execution_count": null,
   "id": "4730c1f9",
   "metadata": {},
   "outputs": [],
   "source": []
  }
 ],
 "metadata": {
  "kernelspec": {
   "display_name": "Python 3",
   "language": "python",
   "name": "python3"
  },
  "language_info": {
   "codemirror_mode": {
    "name": "ipython",
    "version": 3
   },
   "file_extension": ".py",
   "mimetype": "text/x-python",
   "name": "python",
   "nbconvert_exporter": "python",
   "pygments_lexer": "ipython3",
   "version": "3.8.8"
  }
 },
 "nbformat": 4,
 "nbformat_minor": 5
}
